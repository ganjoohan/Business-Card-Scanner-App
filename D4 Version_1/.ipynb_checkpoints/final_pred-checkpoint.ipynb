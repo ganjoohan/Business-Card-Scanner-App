{
 "cells": [
  {
   "cell_type": "code",
   "execution_count": 18,
   "id": "31a53ede",
   "metadata": {},
   "outputs": [],
   "source": [
    "import cv2\n",
    "import predictions\n",
    "import scanner\n",
    "import warnings\n",
    "warnings.filterwarnings('ignore')"
   ]
  },
  {
   "cell_type": "code",
   "execution_count": null,
   "id": "d1f53ceb",
   "metadata": {},
   "outputs": [],
   "source": [
    "!pip install imutils"
   ]
  },
  {
   "cell_type": "code",
   "execution_count": 26,
   "id": "82a36209",
   "metadata": {},
   "outputs": [],
   "source": [
    "img = cv2.imread('./data/006.jpg')\n",
    "cv2.imshow(\"img\",img)\n",
    "cv2.waitKey()\n",
    "cv2.destroyAllWindows()"
   ]
  },
  {
   "cell_type": "code",
   "execution_count": 27,
   "id": "7038f5f7",
   "metadata": {},
   "outputs": [],
   "source": [
    "pred_img, wraped_img = scanner.cropAndTransform(img)"
   ]
  },
  {
   "cell_type": "code",
   "execution_count": 28,
   "id": "7a3b5a57",
   "metadata": {},
   "outputs": [],
   "source": [
    "cv2.namedWindow('img',cv2.WINDOW_NORMAL)\n",
    "cv2.imshow(\"img\",pred_img)\n",
    "cv2.imshow('wraped',wraped_img)\n",
    "cv2.waitKey()\n",
    "cv2.destroyAllWindows()"
   ]
  },
  {
   "cell_type": "code",
   "execution_count": 22,
   "id": "0af171e4",
   "metadata": {},
   "outputs": [
    {
     "name": "stdout",
     "output_type": "stream",
     "text": [
      "www.circade.com_ - of it ait _circade c. tim butler ae of operations ph. 61 802 4567 fax 61 802 4568 tbutler@circade.com\n"
     ]
    }
   ],
   "source": [
    "img_tag, entities = predictions.getPredictions(wraped_img)"
   ]
  },
  {
   "cell_type": "code",
   "execution_count": 23,
   "id": "0ac545af",
   "metadata": {},
   "outputs": [
    {
     "data": {
      "text/plain": [
       "{'NAME': [],\n",
       " 'ORG': [],\n",
       " 'DES': [],\n",
       " 'PHONE': ['618024567802'],\n",
       " 'EMAIL': ['tbutler@circade.com'],\n",
       " 'WEB': ['www.circade.com']}"
      ]
     },
     "execution_count": 23,
     "metadata": {},
     "output_type": "execute_result"
    }
   ],
   "source": [
    "entities"
   ]
  },
  {
   "cell_type": "code",
   "execution_count": 24,
   "id": "b8624c7b",
   "metadata": {},
   "outputs": [],
   "source": [
    "img_tag\n",
    "\n",
    "cv2.imshow(\"img\",img_tag)\n",
    "cv2.waitKey()\n",
    "cv2.destroyAllWindows()"
   ]
  },
  {
   "cell_type": "code",
   "execution_count": null,
   "id": "593d62ab",
   "metadata": {},
   "outputs": [],
   "source": [
    "img = img_org.copy()\n",
    "    img = cv2.detailEnhance(img,sigma_s=200,sigma_r=0.4)\n",
    "    gray = cv2.cvtColor(img,cv2.COLOR_BGR2GRAY)\n",
    "    blur = cv2.GaussianBlur(gray,(5,5),0)\n",
    "    edged = cv2.Canny(blur,75,255)\n",
    "    dilate = cv2.dilate(edged,np.ones((5,5)),iterations=5)\n",
    "\n",
    "    contours, _ = cv2.findContours(dilate, cv2.RETR_LIST, cv2.CHAIN_APPROX_SIMPLE)\n",
    "    contours = sorted(contours, key=cv2.contourArea, reverse=True)\n",
    "    for contour in contours:\n",
    "        # we approximate the contour\n",
    "        peri = cv2.arcLength(contour, True)\n",
    "        approx = cv2.approxPolyDP(contour, 0.05 * peri, True)\n",
    "        # if we found a countour with 4 points we break the for loop\n",
    "        # (we can assume that we have found our document)\n",
    "        if len(approx) == 4:\n",
    "            doc_cnts = approx\n",
    "            break"
   ]
  }
 ],
 "metadata": {
  "kernelspec": {
   "display_name": "Python 3 (ipykernel)",
   "language": "python",
   "name": "python3"
  },
  "language_info": {
   "codemirror_mode": {
    "name": "ipython",
    "version": 3
   },
   "file_extension": ".py",
   "mimetype": "text/x-python",
   "name": "python",
   "nbconvert_exporter": "python",
   "pygments_lexer": "ipython3",
   "version": "3.9.6"
  }
 },
 "nbformat": 4,
 "nbformat_minor": 5
}
