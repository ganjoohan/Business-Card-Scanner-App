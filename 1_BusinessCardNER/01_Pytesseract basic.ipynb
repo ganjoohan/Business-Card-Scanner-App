{
 "cells": [
  {
   "cell_type": "code",
   "execution_count": null,
   "id": "24831d88",
   "metadata": {},
   "outputs": [],
   "source": [
    "import numpy as np\n",
    "import pandas as pd\n",
    "import cv2\n",
    "import PIL\n",
    "import pytesseract"
   ]
  },
  {
   "cell_type": "markdown",
   "id": "b2db27bf",
   "metadata": {},
   "source": [
    "cv2.imread()  : read image as __array__   \n",
    "PIL.Image.Open : read image as __object__"
   ]
  },
  {
   "cell_type": "code",
   "execution_count": 14,
   "id": "748b3fb1",
   "metadata": {
    "scrolled": true
   },
   "outputs": [
    {
     "name": "stdout",
     "output_type": "stream",
     "text": [
      "<class 'numpy.ndarray'>\n"
     ]
    }
   ],
   "source": [
    "# Read image using cv2\n",
    "\n",
    "img_cv = cv2.imread('./Selected/000.jpeg')\n",
    "print(type(img_cv))\n",
    "cv2.imshow('Business Card',img_cv)\n",
    "cv2.waitKey(0) #0 means manually closing the image\n",
    "cv2.destroyAllWindows()"
   ]
  },
  {
   "cell_type": "code",
   "execution_count": null,
   "id": "adb03709",
   "metadata": {},
   "outputs": [],
   "source": [
    "# Read image using Pillow\n",
    "\n",
    "img_pl = PIL.Image.open('./Selected/052.jpeg')\n",
    "print(type(img_pl))\n",
    "\n",
    "img_pl"
   ]
  },
  {
   "cell_type": "markdown",
   "id": "79c04d05",
   "metadata": {},
   "source": [
    "### Text from Image"
   ]
  },
  {
   "cell_type": "code",
   "execution_count": null,
   "id": "456e967d",
   "metadata": {
    "scrolled": true
   },
   "outputs": [],
   "source": [
    "text_cv = pytesseract.image_to_string(img_cv)"
   ]
  },
  {
   "cell_type": "code",
   "execution_count": null,
   "id": "3f87c737",
   "metadata": {},
   "outputs": [],
   "source": [
    "print(text_cv)"
   ]
  },
  {
   "cell_type": "code",
   "execution_count": null,
   "id": "99a36977",
   "metadata": {},
   "outputs": [],
   "source": [
    "text_pl = pytesseract.image_to_string(img_pl, lang='eng+chi_tra')\n",
    "print(text_pl)"
   ]
  },
  {
   "cell_type": "markdown",
   "id": "5ef9b4ce",
   "metadata": {},
   "source": [
    "## Image to Data"
   ]
  },
  {
   "cell_type": "code",
   "execution_count": null,
   "id": "0d350e73",
   "metadata": {},
   "outputs": [],
   "source": [
    "data = pytesseract.image_to_data(img_cv)"
   ]
  },
  {
   "cell_type": "code",
   "execution_count": null,
   "id": "7574afd8",
   "metadata": {},
   "outputs": [],
   "source": [
    "#data.split('\\n')\n",
    "dataList = list(map(lambda x: x.split('\\t'),data.split('\\n')))\n",
    "df = pd.DataFrame(dataList[1:], columns=dataList[0])"
   ]
  },
  {
   "cell_type": "code",
   "execution_count": null,
   "id": "119e068f",
   "metadata": {},
   "outputs": [],
   "source": [
    "df.head()"
   ]
  },
  {
   "cell_type": "code",
   "execution_count": null,
   "id": "824f572a",
   "metadata": {},
   "outputs": [],
   "source": [
    "df.info()"
   ]
  },
  {
   "cell_type": "code",
   "execution_count": null,
   "id": "124cf7f6",
   "metadata": {
    "scrolled": true
   },
   "outputs": [],
   "source": [
    "df.dropna(inplace = True) #drop missing value\n",
    "col_int = ['level','page_num','block_num','par_num','line_num','word_num','left','top','width','height','conf']\n",
    "df[col_int] = df[col_int].astype(float).astype(int)"
   ]
  },
  {
   "cell_type": "code",
   "execution_count": null,
   "id": "6ca2ee68",
   "metadata": {},
   "outputs": [],
   "source": [
    "df.head()"
   ]
  },
  {
   "cell_type": "code",
   "execution_count": null,
   "id": "b45972af",
   "metadata": {},
   "outputs": [],
   "source": [
    "image = img_cv.copy()\n",
    "level = 'word'\n",
    "for l,x,y,w,h,c,txt in df[['level','left','top','width','height','conf','text']].values:\n",
    "    #print(l,x,y,w,h,c)\n",
    "    if level == 'page':\n",
    "        if l == 1:\n",
    "            cv2.rectangle(image,(x,y),(x+w,y+h),(0,0,0),2)\n",
    "        else:\n",
    "            continue\n",
    "    \n",
    "    elif level == 'block':\n",
    "        if l == 2:\n",
    "            cv2.rectangle(image,(x,y),(x+w,y+h),(255,0,0),2)\n",
    "        else:\n",
    "            continue\n",
    "            \n",
    "    elif level == 'para':\n",
    "        if l == 3:\n",
    "            cv2.rectangle(image,(x,y),(x+w,y+h),(0,255,0),2)\n",
    "        else:\n",
    "            continue\n",
    "    \n",
    "    elif level == 'line':\n",
    "        if l == 4:\n",
    "            cv2.rectangle(image,(x,y),(x+w,y+h),(0,0,255),2)\n",
    "        else:\n",
    "            continue\n",
    "    \n",
    "    elif level == 'word':\n",
    "        if l == 5:\n",
    "            cv2.rectangle(image,(x,y),(x+w,y+h),(0,255,255), 2)\n",
    "            cv2.putText(image,txt,(x,y),cv2.FONT_HERSHEY_PLAIN, 1, (255,0,0), 2)\n",
    "        else:\n",
    "            continue\n",
    "\n",
    "            \n",
    "cv2.imshow('bounding box',image)\n",
    "cv2.waitKey() #0 means manually closing the image\n",
    "cv2.destroyAllWindows()"
   ]
  },
  {
   "cell_type": "code",
   "execution_count": null,
   "id": "ad692e47",
   "metadata": {},
   "outputs": [],
   "source": []
  },
  {
   "cell_type": "code",
   "execution_count": null,
   "id": "8c09adbf",
   "metadata": {},
   "outputs": [],
   "source": []
  },
  {
   "cell_type": "code",
   "execution_count": null,
   "id": "1a9deabb",
   "metadata": {},
   "outputs": [],
   "source": []
  },
  {
   "cell_type": "code",
   "execution_count": null,
   "id": "a1232196",
   "metadata": {},
   "outputs": [],
   "source": []
  },
  {
   "cell_type": "code",
   "execution_count": null,
   "id": "a8cc3138",
   "metadata": {},
   "outputs": [],
   "source": []
  },
  {
   "cell_type": "code",
   "execution_count": null,
   "id": "6e57fce5",
   "metadata": {},
   "outputs": [],
   "source": []
  },
  {
   "cell_type": "code",
   "execution_count": null,
   "id": "e6f3fdcd",
   "metadata": {},
   "outputs": [],
   "source": []
  },
  {
   "cell_type": "code",
   "execution_count": null,
   "id": "c989ecc0",
   "metadata": {},
   "outputs": [],
   "source": []
  },
  {
   "cell_type": "code",
   "execution_count": null,
   "id": "16e6d6cb",
   "metadata": {},
   "outputs": [],
   "source": []
  },
  {
   "cell_type": "code",
   "execution_count": null,
   "id": "f433daef",
   "metadata": {},
   "outputs": [],
   "source": []
  },
  {
   "cell_type": "code",
   "execution_count": null,
   "id": "08244f83",
   "metadata": {},
   "outputs": [],
   "source": []
  },
  {
   "cell_type": "code",
   "execution_count": null,
   "id": "bf0fd67a",
   "metadata": {},
   "outputs": [],
   "source": []
  },
  {
   "cell_type": "code",
   "execution_count": null,
   "id": "aac51e2c",
   "metadata": {},
   "outputs": [],
   "source": []
  },
  {
   "cell_type": "code",
   "execution_count": null,
   "id": "c8abb0e1",
   "metadata": {},
   "outputs": [],
   "source": []
  },
  {
   "cell_type": "code",
   "execution_count": null,
   "id": "3fa9351a",
   "metadata": {},
   "outputs": [],
   "source": []
  }
 ],
 "metadata": {
  "kernelspec": {
   "display_name": "Python 3 (ipykernel)",
   "language": "python",
   "name": "python3"
  },
  "language_info": {
   "codemirror_mode": {
    "name": "ipython",
    "version": 3
   },
   "file_extension": ".py",
   "mimetype": "text/x-python",
   "name": "python",
   "nbconvert_exporter": "python",
   "pygments_lexer": "ipython3",
   "version": "3.9.13"
  }
 },
 "nbformat": 4,
 "nbformat_minor": 5
}
